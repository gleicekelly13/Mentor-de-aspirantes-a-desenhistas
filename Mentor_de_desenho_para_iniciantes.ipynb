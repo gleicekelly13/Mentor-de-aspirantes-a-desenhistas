{
  "nbformat": 4,
  "nbformat_minor": 0,
  "metadata": {
    "colab": {
      "provenance": [],
      "authorship_tag": "ABX9TyPQyF7vTjwgYBbRKmihNmgK",
      "include_colab_link": true
    },
    "kernelspec": {
      "name": "python3",
      "display_name": "Python 3"
    },
    "language_info": {
      "name": "python"
    }
  },
  "cells": [
    {
      "cell_type": "markdown",
      "metadata": {
        "id": "view-in-github",
        "colab_type": "text"
      },
      "source": [
        "<a href=\"https://colab.research.google.com/github/gleicekelly13/Mentor-de-aspirantes-a-desenhistas/blob/main/Mentor_de_desenho_para_iniciantes.ipynb\" target=\"_parent\"><img src=\"https://colab.research.google.com/assets/colab-badge.svg\" alt=\"Open In Colab\"/></a>"
      ]
    },
    {
      "cell_type": "code",
      "execution_count": null,
      "metadata": {
        "id": "n7KHUf-mWmDU"
      },
      "outputs": [],
      "source": [
        "%pip -q install google-genai"
      ]
    },
    {
      "cell_type": "code",
      "source": [
        "import os\n",
        "from google.colab import userdata\n",
        "\n",
        "os.environ['GOOGLE_API_KEY'] = userdata.get('GOOGLE_API_KEY')"
      ],
      "metadata": {
        "id": "jW3yoQRHXyNx"
      },
      "execution_count": 35,
      "outputs": []
    },
    {
      "cell_type": "code",
      "source": [
        "from google import genai\n",
        "\n",
        "client = genai.Client()"
      ],
      "metadata": {
        "id": "T6FAWGLHYBVo"
      },
      "execution_count": 36,
      "outputs": []
    },
    {
      "cell_type": "code",
      "source": [
        "for model in client.models.list():\n",
        "  print(model.name)"
      ],
      "metadata": {
        "id": "E2MHU88jitlA"
      },
      "execution_count": null,
      "outputs": []
    },
    {
      "cell_type": "code",
      "source": [
        "modelo = \"gemini-2.0-flash\""
      ],
      "metadata": {
        "id": "EIB4muxejS-9"
      },
      "execution_count": 38,
      "outputs": []
    },
    {
      "cell_type": "code",
      "source": [
        "from google.genai import types\n",
        "\n",
        "chat_config = types.GenerateContentConfig(  #Configura a forma de como o conteúdo será gerado\n",
        "    system_instruction = \"Você é um assistente pessoal e sempre responde de forma sucinta.\",\n",
        "    temperature = 0.5,\n",
        ")\n",
        "\n",
        "chat = client.chats.create(model=modelo, config=chat_config)\n",
        "\n",
        "resposta = chat.send_message(\"É possível aprender a desenhar do zero depois de adulto?\")\n",
        "\n",
        "resposta.text"
      ],
      "metadata": {
        "id": "Qdk4xIosj-xs"
      },
      "execution_count": null,
      "outputs": []
    },
    {
      "cell_type": "code",
      "source": [
        "chat.get_history()"
      ],
      "metadata": {
        "id": "96hf5rY6mFEg"
      },
      "execution_count": null,
      "outputs": []
    },
    {
      "cell_type": "code",
      "source": [
        "import textwrap\n",
        "\n",
        "while True:\n",
        "  pergunta = input(\"Você: \")\n",
        "\n",
        "  if pergunta.lower() in ['sair', 'exit', 'fim', 'parar']:\n",
        "    print(\"Mentor: Foi ótimo conversar com você, continue desenhando e se divertindo! Até logo\")\n",
        "    break\n",
        "\n",
        "  prompt = f\"\"\"\n",
        "    Você é um mentor gentil, encorajador e experiente para aspirantes a desenhistas.\n",
        "    Ao responder, use linguagem acessível e positiva, com dicas práticas sobre desenho artístico, criatividade e prática.\n",
        "\n",
        "    Pergunta do aprendiz: {pergunta}\n",
        "  \"\"\"\n",
        "\n",
        "  resposta = chat.send_message(prompt)\n",
        "\n",
        "  # Aplica wrap em cada linha, mantendo listas e parágrafos\n",
        "  linhas_formatadas = []\n",
        "  for linha in resposta.text.split('\\n'):\n",
        "      if linha.strip() == \"\":\n",
        "          linhas_formatadas.append(\"\")  # mantém linhas em branco\n",
        "      else:\n",
        "          linhas_formatadas.append(textwrap.fill(linha, width=100))\n",
        "\n",
        "  print(\"Mentor: \" + \"\\n\".join(linhas_formatadas) + \"\\n\")\n",
        "  #print(\"Mentor: \", resposta.text, \"\\n\")\n",
        "  #print(\"Mentor: \", textwrap.fill(resposta.text, width = 200), \"\\n\")"
      ],
      "metadata": {
        "id": "qoEStk2n7bzH"
      },
      "execution_count": null,
      "outputs": []
    }
  ]
}